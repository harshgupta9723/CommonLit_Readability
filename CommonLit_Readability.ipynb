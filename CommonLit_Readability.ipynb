{
  "nbformat": 4,
  "nbformat_minor": 0,
  "metadata": {
    "colab": {
      "name": "CommonLit Readability.ipynb",
      "provenance": [],
      "collapsed_sections": [],
      "mount_file_id": "1SqCbMoiZvFxT7X47zKyxsTqbd6isesWx",
      "authorship_tag": "ABX9TyPzZMAA2UOiIDA35QwB28sp",
      "include_colab_link": true
    },
    "kernelspec": {
      "name": "python3",
      "display_name": "Python 3"
    },
    "language_info": {
      "name": "python"
    }
  },
  "cells": [
    {
      "cell_type": "markdown",
      "metadata": {
        "id": "view-in-github",
        "colab_type": "text"
      },
      "source": [
        "<a href=\"https://colab.research.google.com/github/harshgupta9723/CommonLit_Readability/blob/main/CommonLit_Readability.ipynb\" target=\"_parent\"><img src=\"https://colab.research.google.com/assets/colab-badge.svg\" alt=\"Open In Colab\"/></a>"
      ]
    },
    {
      "cell_type": "code",
      "metadata": {
        "id": "10PUHXdU3UYq"
      },
      "source": [
        "import pandas as pd\n",
        "import numpy as np"
      ],
      "execution_count": null,
      "outputs": []
    },
    {
      "cell_type": "code",
      "metadata": {
        "colab": {
          "base_uri": "https://localhost:8080/",
          "height": 206
        },
        "id": "aRPDDfxV4c9a",
        "outputId": "cfe7f813-6d64-42c0-c13b-134777d2e316"
      },
      "source": [
        "project_data = pd.read_csv(\"/content/drive/MyDrive/kaggle/CommonLit/train.csv\")\n",
        "project_data.head()"
      ],
      "execution_count": null,
      "outputs": [
        {
          "output_type": "execute_result",
          "data": {
            "text/html": [
              "<div>\n",
              "<style scoped>\n",
              "    .dataframe tbody tr th:only-of-type {\n",
              "        vertical-align: middle;\n",
              "    }\n",
              "\n",
              "    .dataframe tbody tr th {\n",
              "        vertical-align: top;\n",
              "    }\n",
              "\n",
              "    .dataframe thead th {\n",
              "        text-align: right;\n",
              "    }\n",
              "</style>\n",
              "<table border=\"1\" class=\"dataframe\">\n",
              "  <thead>\n",
              "    <tr style=\"text-align: right;\">\n",
              "      <th></th>\n",
              "      <th>id</th>\n",
              "      <th>url_legal</th>\n",
              "      <th>license</th>\n",
              "      <th>excerpt</th>\n",
              "      <th>target</th>\n",
              "      <th>standard_error</th>\n",
              "    </tr>\n",
              "  </thead>\n",
              "  <tbody>\n",
              "    <tr>\n",
              "      <th>0</th>\n",
              "      <td>c12129c31</td>\n",
              "      <td>NaN</td>\n",
              "      <td>NaN</td>\n",
              "      <td>When the young people returned to the ballroom...</td>\n",
              "      <td>-0.340259</td>\n",
              "      <td>0.464009</td>\n",
              "    </tr>\n",
              "    <tr>\n",
              "      <th>1</th>\n",
              "      <td>85aa80a4c</td>\n",
              "      <td>NaN</td>\n",
              "      <td>NaN</td>\n",
              "      <td>All through dinner time, Mrs. Fayre was somewh...</td>\n",
              "      <td>-0.315372</td>\n",
              "      <td>0.480805</td>\n",
              "    </tr>\n",
              "    <tr>\n",
              "      <th>2</th>\n",
              "      <td>b69ac6792</td>\n",
              "      <td>NaN</td>\n",
              "      <td>NaN</td>\n",
              "      <td>As Roger had predicted, the snow departed as q...</td>\n",
              "      <td>-0.580118</td>\n",
              "      <td>0.476676</td>\n",
              "    </tr>\n",
              "    <tr>\n",
              "      <th>3</th>\n",
              "      <td>dd1000b26</td>\n",
              "      <td>NaN</td>\n",
              "      <td>NaN</td>\n",
              "      <td>And outside before the palace a great garden w...</td>\n",
              "      <td>-1.054013</td>\n",
              "      <td>0.450007</td>\n",
              "    </tr>\n",
              "    <tr>\n",
              "      <th>4</th>\n",
              "      <td>37c1b32fb</td>\n",
              "      <td>NaN</td>\n",
              "      <td>NaN</td>\n",
              "      <td>Once upon a time there were Three Bears who li...</td>\n",
              "      <td>0.247197</td>\n",
              "      <td>0.510845</td>\n",
              "    </tr>\n",
              "  </tbody>\n",
              "</table>\n",
              "</div>"
            ],
            "text/plain": [
              "          id url_legal  ...    target standard_error\n",
              "0  c12129c31       NaN  ... -0.340259       0.464009\n",
              "1  85aa80a4c       NaN  ... -0.315372       0.480805\n",
              "2  b69ac6792       NaN  ... -0.580118       0.476676\n",
              "3  dd1000b26       NaN  ... -1.054013       0.450007\n",
              "4  37c1b32fb       NaN  ...  0.247197       0.510845\n",
              "\n",
              "[5 rows x 6 columns]"
            ]
          },
          "metadata": {
            "tags": []
          },
          "execution_count": 4
        }
      ]
    },
    {
      "cell_type": "code",
      "metadata": {
        "colab": {
          "base_uri": "https://localhost:8080/",
          "height": 424
        },
        "id": "hl_ucuvj6IL0",
        "outputId": "4b3e31e7-d5fb-472e-e08f-ba76483d4211"
      },
      "source": [
        "project_data.sort_values('target')"
      ],
      "execution_count": null,
      "outputs": [
        {
          "output_type": "execute_result",
          "data": {
            "text/html": [
              "<div>\n",
              "<style scoped>\n",
              "    .dataframe tbody tr th:only-of-type {\n",
              "        vertical-align: middle;\n",
              "    }\n",
              "\n",
              "    .dataframe tbody tr th {\n",
              "        vertical-align: top;\n",
              "    }\n",
              "\n",
              "    .dataframe thead th {\n",
              "        text-align: right;\n",
              "    }\n",
              "</style>\n",
              "<table border=\"1\" class=\"dataframe\">\n",
              "  <thead>\n",
              "    <tr style=\"text-align: right;\">\n",
              "      <th></th>\n",
              "      <th>id</th>\n",
              "      <th>url_legal</th>\n",
              "      <th>license</th>\n",
              "      <th>excerpt</th>\n",
              "      <th>target</th>\n",
              "      <th>standard_error</th>\n",
              "    </tr>\n",
              "  </thead>\n",
              "  <tbody>\n",
              "    <tr>\n",
              "      <th>1705</th>\n",
              "      <td>4626100d8</td>\n",
              "      <td>NaN</td>\n",
              "      <td>NaN</td>\n",
              "      <td>The commutator is peculiar, consisting of only...</td>\n",
              "      <td>-3.676268</td>\n",
              "      <td>0.623621</td>\n",
              "    </tr>\n",
              "    <tr>\n",
              "      <th>1128</th>\n",
              "      <td>493b80aa7</td>\n",
              "      <td>NaN</td>\n",
              "      <td>NaN</td>\n",
              "      <td>The Dunwich horror itself came between Lammas ...</td>\n",
              "      <td>-3.668360</td>\n",
              "      <td>0.571404</td>\n",
              "    </tr>\n",
              "    <tr>\n",
              "      <th>1754</th>\n",
              "      <td>fe44cbd14</td>\n",
              "      <td>NaN</td>\n",
              "      <td>NaN</td>\n",
              "      <td>The iron cylinder weighs 23 kilogrammes; but, ...</td>\n",
              "      <td>-3.642892</td>\n",
              "      <td>0.644398</td>\n",
              "    </tr>\n",
              "    <tr>\n",
              "      <th>1752</th>\n",
              "      <td>284eaa5ad</td>\n",
              "      <td>NaN</td>\n",
              "      <td>NaN</td>\n",
              "      <td>As to surface-slope its measurement—from nearl...</td>\n",
              "      <td>-3.639936</td>\n",
              "      <td>0.603819</td>\n",
              "    </tr>\n",
              "    <tr>\n",
              "      <th>1720</th>\n",
              "      <td>9e9eacb49</td>\n",
              "      <td>NaN</td>\n",
              "      <td>NaN</td>\n",
              "      <td>The tree is dioecious, bearing male catkins on...</td>\n",
              "      <td>-3.636834</td>\n",
              "      <td>0.606822</td>\n",
              "    </tr>\n",
              "    <tr>\n",
              "      <th>...</th>\n",
              "      <td>...</td>\n",
              "      <td>...</td>\n",
              "      <td>...</td>\n",
              "      <td>...</td>\n",
              "      <td>...</td>\n",
              "      <td>...</td>\n",
              "    </tr>\n",
              "    <tr>\n",
              "      <th>1066</th>\n",
              "      <td>016913371</td>\n",
              "      <td>https://www.africanstorybook.org/</td>\n",
              "      <td>CC BY 4.0</td>\n",
              "      <td>Grandma's garden was wonderful. It was full of...</td>\n",
              "      <td>1.467665</td>\n",
              "      <td>0.599600</td>\n",
              "    </tr>\n",
              "    <tr>\n",
              "      <th>1014</th>\n",
              "      <td>7a1d484be</td>\n",
              "      <td>https://www.africanstorybook.org/</td>\n",
              "      <td>CC BY 4.0</td>\n",
              "      <td>More people came to the bus stop just before 9...</td>\n",
              "      <td>1.541672</td>\n",
              "      <td>0.606997</td>\n",
              "    </tr>\n",
              "    <tr>\n",
              "      <th>808</th>\n",
              "      <td>8f35441e3</td>\n",
              "      <td>https://www.africanstorybook.org/#</td>\n",
              "      <td>CC BY 4.0</td>\n",
              "      <td>Every day, Emeka's father took him to school i...</td>\n",
              "      <td>1.583847</td>\n",
              "      <td>0.624776</td>\n",
              "    </tr>\n",
              "    <tr>\n",
              "      <th>981</th>\n",
              "      <td>849971671</td>\n",
              "      <td>https://www.africanstorybook.org/</td>\n",
              "      <td>CC BY 4.0</td>\n",
              "      <td>For her last birthday, Sisanda had a special t...</td>\n",
              "      <td>1.597870</td>\n",
              "      <td>0.596349</td>\n",
              "    </tr>\n",
              "    <tr>\n",
              "      <th>2829</th>\n",
              "      <td>25ca8f498</td>\n",
              "      <td>https://sites.ehe.osu.edu/beyondpenguins/files...</td>\n",
              "      <td>CC BY-SA 3.0</td>\n",
              "      <td>When you think of dinosaurs and where they liv...</td>\n",
              "      <td>1.711390</td>\n",
              "      <td>0.646900</td>\n",
              "    </tr>\n",
              "  </tbody>\n",
              "</table>\n",
              "<p>2834 rows × 6 columns</p>\n",
              "</div>"
            ],
            "text/plain": [
              "             id  ... standard_error\n",
              "1705  4626100d8  ...       0.623621\n",
              "1128  493b80aa7  ...       0.571404\n",
              "1754  fe44cbd14  ...       0.644398\n",
              "1752  284eaa5ad  ...       0.603819\n",
              "1720  9e9eacb49  ...       0.606822\n",
              "...         ...  ...            ...\n",
              "1066  016913371  ...       0.599600\n",
              "1014  7a1d484be  ...       0.606997\n",
              "808   8f35441e3  ...       0.624776\n",
              "981   849971671  ...       0.596349\n",
              "2829  25ca8f498  ...       0.646900\n",
              "\n",
              "[2834 rows x 6 columns]"
            ]
          },
          "metadata": {
            "tags": []
          },
          "execution_count": 6
        }
      ]
    },
    {
      "cell_type": "code",
      "metadata": {
        "colab": {
          "base_uri": "https://localhost:8080/",
          "height": 127
        },
        "id": "ClTx2ob-6T_x",
        "outputId": "5f0054d6-e379-4a50-a0b6-211ef6465383"
      },
      "source": [
        "# analyse the difference between low taget value excerpt and high target value excerpt\n",
        "\n",
        "project_data['excerpt'].iloc[0] # first element"
      ],
      "execution_count": null,
      "outputs": [
        {
          "output_type": "execute_result",
          "data": {
            "application/vnd.google.colaboratory.intrinsic+json": {
              "type": "string"
            },
            "text/plain": [
              "'When the young people returned to the ballroom, it presented a decidedly changed appearance. Instead of an interior scene, it was a winter landscape.\\nThe floor was covered with snow-white canvas, not laid on smoothly, but rumpled over bumps and hillocks, like a real snow field. The numerous palms and evergreens that had decorated the room, were powdered with flour and strewn with tufts of cotton, like snow. Also diamond dust had been lightly sprinkled on them, and glittering crystal icicles hung from the branches.\\nAt each end of the room, on the wall, hung a beautiful bear-skin rug.\\nThese rugs were for prizes, one for the girls and one for the boys. And this was the game.\\nThe girls were gathered at one end of the room and the boys at the other, and one end was called the North Pole, and the other the South Pole. Each player was given a small flag which they were to plant on reaching the Pole.\\nThis would have been an easy matter, but each traveller was obliged to wear snowshoes.'"
            ]
          },
          "metadata": {
            "tags": []
          },
          "execution_count": 9
        }
      ]
    },
    {
      "cell_type": "code",
      "metadata": {
        "id": "wLNrCcdR7D2c",
        "colab": {
          "base_uri": "https://localhost:8080/",
          "height": 127
        },
        "outputId": "13327242-8128-404a-959d-d18ea4b89a25"
      },
      "source": [
        "project_data['excerpt'].iloc[-1] "
      ],
      "execution_count": null,
      "outputs": [
        {
          "output_type": "execute_result",
          "data": {
            "application/vnd.google.colaboratory.intrinsic+json": {
              "type": "string"
            },
            "text/plain": [
              "'Animals are made of many cells. They eat things and digest them inside. Most animals can move. Only animals have brains (though not even all animals do; jellyfish, for example, do not have brains).\\nAnimals are found all over the earth. They dig in the ground, swim in the oceans, and fly in the sky.\\nHumans are a type of animal. So are dogs, cats, cows, horses, frogs, fish, and so on and on.\\nAnimals can be divided into two main groups, vertebrates and invertebrates. Vertebrates can be further divided into mammals, fish, birds, reptiles, and amphibians. Invertebrates can be divided into arthropods (like insects, spiders, and crabs), mollusks, sponges, several different kinds of worms, jellyfish — and quite a few other subgroups. There are at least thirty kinds of invertebrates, compared to the five kinds of vertebrates. Vertebrates have a backbone, while invertebrates do not.'"
            ]
          },
          "metadata": {
            "tags": []
          },
          "execution_count": 10
        }
      ]
    }
  ]
}